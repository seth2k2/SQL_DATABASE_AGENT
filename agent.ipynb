{
 "cells": [
  {
   "cell_type": "code",
   "execution_count": 11,
   "id": "9d086028",
   "metadata": {},
   "outputs": [
    {
     "data": {
      "text/plain": [
       "True"
      ]
     },
     "execution_count": 11,
     "metadata": {},
     "output_type": "execute_result"
    }
   ],
   "source": [
    "from langchain_community.utilities import SQLDatabase\n",
    "from langchain.chat_models import init_chat_model\n",
    "from langchain import hub\n",
    "from langgraph.prebuilt import create_react_agent\n",
    "from langchain_community.agent_toolkits import SQLDatabaseToolkit\n",
    "from dotenv import load_dotenv\n",
    "import os\n",
    "\n",
    "load_dotenv()"
   ]
  },
  {
   "cell_type": "code",
   "execution_count": 2,
   "id": "04b8aa71",
   "metadata": {},
   "outputs": [
    {
     "name": "stdout",
     "output_type": "stream",
     "text": [
      "sqlite\n",
      "['customers', 'employees', 'offices', 'orderdetails', 'orders', 'payments', 'productlines', 'products']\n"
     ]
    },
    {
     "name": "stderr",
     "output_type": "stream",
     "text": [
      "c:\\Users\\PC\\Desktop\\sql_agent\\venv\\Lib\\site-packages\\langchain_community\\utilities\\sql_database.py:134: SAWarning: Could not instantiate type <class 'sqlalchemy.sql.sqltypes.SMALLINT'> with reflected arguments ['6']; using no arguments.\n",
      "  self._metadata.reflect(\n"
     ]
    }
   ],
   "source": [
    "db = SQLDatabase.from_uri('sqlite:///classicmodels.db')\n",
    "print(db.dialect)\n",
    "print(db.get_usable_table_names())"
   ]
  },
  {
   "cell_type": "code",
   "execution_count": 3,
   "id": "d2ccc7f8",
   "metadata": {},
   "outputs": [
    {
     "name": "stdout",
     "output_type": "stream",
     "text": [
      "[(103, 'Atelier graphique', 'Schmitt', 'Carine ', '40.32.2555', '54, rue Royale', None, 'Nantes', None, '44000', 'France', 1370, 21000), (112, 'Signal Gift Stores', 'King', 'Jean', '7025551838', '8489 Strong St.', None, 'Las Vegas', 'NV', '83030', 'USA', 1166, 71800), (114, 'Australian Collectors, Co.', 'Ferguson', 'Peter', '03 9520 4555', '636 St Kilda Road', 'Level 3', 'Melbourne', 'Victoria', '3004', 'Australia', 1611, 117300)]\n"
     ]
    }
   ],
   "source": [
    "print(db.run(\"SELECT * FROM customers LIMIT 3;\"))"
   ]
  },
  {
   "cell_type": "code",
   "execution_count": null,
   "id": "26f3a1e2",
   "metadata": {},
   "outputs": [],
   "source": [
    "llm = init_chat_model(\n",
    "    model=\"openai/gpt-4o-mini\",\n",
    "    model_provider=\"openai\",\n",
    "    base_url=\"https://openrouter.ai/api/v1\",\n",
    "    api_key=os.getenv(\"OPENROUTER_API_KEY\"),\n",
    ")"
   ]
  },
  {
   "cell_type": "code",
   "execution_count": 12,
   "id": "f4c2d2b4",
   "metadata": {},
   "outputs": [
    {
     "name": "stdout",
     "output_type": "stream",
     "text": [
      "[QuerySQLDatabaseTool(description=\"Input to this tool is a detailed and correct SQL query, output is a result from the database. If the query is not correct, an error message will be returned. If an error is returned, rewrite the query, check the query, and try again. If you encounter an issue with Unknown column 'xxxx' in 'field list', use sql_db_schema to query the correct table fields.\", db=<langchain_community.utilities.sql_database.SQLDatabase object at 0x000001FA3880D790>), InfoSQLDatabaseTool(description='Input to this tool is a comma-separated list of tables, output is the schema and sample rows for those tables. Be sure that the tables actually exist by calling sql_db_list_tables first! Example Input: table1, table2, table3', db=<langchain_community.utilities.sql_database.SQLDatabase object at 0x000001FA3880D790>), ListSQLDatabaseTool(db=<langchain_community.utilities.sql_database.SQLDatabase object at 0x000001FA3880D790>), QuerySQLCheckerTool(description='Use this tool to double check if your query is correct before executing it. Always use this tool before executing a query with sql_db_query!', db=<langchain_community.utilities.sql_database.SQLDatabase object at 0x000001FA3880D790>, llm=ChatOpenAI(client=<openai.resources.chat.completions.completions.Completions object at 0x000001FA3BC03FE0>, async_client=<openai.resources.chat.completions.completions.AsyncCompletions object at 0x000001FA3BC9A270>, root_client=<openai.OpenAI object at 0x000001FA3AE9EBD0>, root_async_client=<openai.AsyncOpenAI object at 0x000001FA3BAB5A00>, model_name='openai/gpt-4o-mini', model_kwargs={}, openai_api_key=SecretStr('**********'), openai_api_base='https://openrouter.ai/api/v1'), llm_chain=LLMChain(verbose=False, prompt=PromptTemplate(input_variables=['dialect', 'query'], input_types={}, partial_variables={}, template='\\n{query}\\nDouble check the {dialect} query above for common mistakes, including:\\n- Using NOT IN with NULL values\\n- Using UNION when UNION ALL should have been used\\n- Using BETWEEN for exclusive ranges\\n- Data type mismatch in predicates\\n- Properly quoting identifiers\\n- Using the correct number of arguments for functions\\n- Casting to the correct data type\\n- Using the proper columns for joins\\n\\nIf there are any of the above mistakes, rewrite the query. If there are no mistakes, just reproduce the original query.\\n\\nOutput the final SQL query only.\\n\\nSQL Query: '), llm=ChatOpenAI(client=<openai.resources.chat.completions.completions.Completions object at 0x000001FA3BC03FE0>, async_client=<openai.resources.chat.completions.completions.AsyncCompletions object at 0x000001FA3BC9A270>, root_client=<openai.OpenAI object at 0x000001FA3AE9EBD0>, root_async_client=<openai.AsyncOpenAI object at 0x000001FA3BAB5A00>, model_name='openai/gpt-4o-mini', model_kwargs={}, openai_api_key=SecretStr('**********'), openai_api_base='https://openrouter.ai/api/v1'), output_parser=StrOutputParser(), llm_kwargs={}))]\n"
     ]
    }
   ],
   "source": [
    "toolkit = SQLDatabaseToolkit(db=db, llm=llm)\n",
    "tools = toolkit.get_tools()\n",
    "print(tools)"
   ]
  },
  {
   "cell_type": "code",
   "execution_count": 13,
   "id": "90427b40",
   "metadata": {},
   "outputs": [
    {
     "name": "stderr",
     "output_type": "stream",
     "text": [
      "c:\\Users\\PC\\Desktop\\sql_agent\\venv\\Lib\\site-packages\\langsmith\\client.py:272: LangSmithMissingAPIKeyWarning: API key must be provided when using hosted LangSmith API\n",
      "  warnings.warn(\n"
     ]
    },
    {
     "name": "stdout",
     "output_type": "stream",
     "text": [
      "================================\u001b[1m System Message \u001b[0m================================\n",
      "\n",
      "You are an agent designed to interact with a SQL database.\n",
      "Given an input question, create a syntactically correct \u001b[33;1m\u001b[1;3m{dialect}\u001b[0m query to run, then look at the results of the query and return the answer.\n",
      "Unless the user specifies a specific number of examples they wish to obtain, always limit your query to at most \u001b[33;1m\u001b[1;3m{top_k}\u001b[0m results.\n",
      "You can order the results by a relevant column to return the most interesting examples in the database.\n",
      "Never query for all the columns from a specific table, only ask for the relevant columns given the question.\n",
      "You have access to tools for interacting with the database.\n",
      "Only use the below tools. Only use the information returned by the below tools to construct your final answer.\n",
      "You MUST double check your query before executing it. If you get an error while executing a query, rewrite the query and try again.\n",
      "\n",
      "DO NOT make any DML statements (INSERT, UPDATE, DELETE, DROP etc.) to the database.\n",
      "\n",
      "To start you should ALWAYS look at the tables in the database to see what you can query.\n",
      "Do NOT skip this step.\n",
      "Then you should query the schema of the most relevant tables.\n"
     ]
    }
   ],
   "source": [
    "prompt_template = hub.pull('langchain-ai/sql-agent-system-prompt')\n",
    "prompt_template.messages[0].pretty_print()"
   ]
  },
  {
   "cell_type": "code",
   "execution_count": null,
   "id": "00062194",
   "metadata": {},
   "outputs": [],
   "source": [
    "system_message = prompt_template.format(dialect='SQLite', top_k=5)\n",
    "\n",
    "sql_agent = create_react_agent(llm, tools, prompt=system_message)"
   ]
  },
  {
   "cell_type": "code",
   "execution_count": 15,
   "id": "5b220f8d",
   "metadata": {},
   "outputs": [
    {
     "name": "stdout",
     "output_type": "stream",
     "text": [
      "================================\u001b[1m Human Message \u001b[0m=================================\n",
      "\n",
      "Get the top 10 selling products by quantity\n",
      "==================================\u001b[1m Ai Message \u001b[0m==================================\n",
      "Tool Calls:\n",
      "  sql_db_list_tables (call_kWTRZ52zYCgi4LW6nAL7RskF)\n",
      " Call ID: call_kWTRZ52zYCgi4LW6nAL7RskF\n",
      "  Args:\n",
      "=================================\u001b[1m Tool Message \u001b[0m=================================\n",
      "Name: sql_db_list_tables\n",
      "\n",
      "customers, employees, offices, orderdetails, orders, payments, productlines, products\n",
      "==================================\u001b[1m Ai Message \u001b[0m==================================\n",
      "Tool Calls:\n",
      "  sql_db_list_tables (call_kWTRZ52zYCgi4LW6nAL7RskF)\n",
      " Call ID: call_kWTRZ52zYCgi4LW6nAL7RskF\n",
      "  Args:\n",
      "=================================\u001b[1m Tool Message \u001b[0m=================================\n",
      "Name: sql_db_list_tables\n",
      "\n",
      "customers, employees, offices, orderdetails, orders, payments, productlines, products\n",
      "==================================\u001b[1m Ai Message \u001b[0m==================================\n",
      "Tool Calls:\n",
      "  sql_db_schema (call_jGcysSrRQoC4WmXstbA0TacK)\n",
      " Call ID: call_jGcysSrRQoC4WmXstbA0TacK\n",
      "  Args:\n",
      "    table_names: products\n",
      "  sql_db_schema (call_H47u09VVeKoCnceUU7KwOA3P)\n",
      " Call ID: call_H47u09VVeKoCnceUU7KwOA3P\n",
      "  Args:\n",
      "    table_names: orderdetails\n",
      "=================================\u001b[1m Tool Message \u001b[0m=================================\n",
      "Name: sql_db_schema\n",
      "\n",
      "\n",
      "CREATE TABLE orderdetails (\n",
      "\t\"orderNumber\" INTEGER, \n",
      "\t\"productCode\" VARCHAR(15) NOT NULL, \n",
      "\t\"quantityOrdered\" INTEGER NOT NULL, \n",
      "\t\"priceEach\" DECIMAL(10, 2) NOT NULL, \n",
      "\t\"orderLineNumber\" SMALLINT NOT NULL, \n",
      "\tPRIMARY KEY (\"orderNumber\", \"productCode\"), \n",
      "\tFOREIGN KEY(\"orderNumber\") REFERENCES orders (\"orderNumber\"), \n",
      "\tFOREIGN KEY(\"productCode\") REFERENCES products (\"productCode\")\n",
      ")\n",
      "\n",
      "/*\n",
      "3 rows from orderdetails table:\n",
      "orderNumber\tproductCode\tquantityOrdered\tpriceEach\torderLineNumber\n",
      "10100\tS18_1749\t30\t136.00\t3\n",
      "10100\tS18_2248\t50\t55.09\t2\n",
      "10100\tS18_4409\t22\t75.46\t4\n",
      "*/\n",
      "==================================\u001b[1m Ai Message \u001b[0m==================================\n",
      "Tool Calls:\n",
      "  sql_db_schema (call_jGcysSrRQoC4WmXstbA0TacK)\n",
      " Call ID: call_jGcysSrRQoC4WmXstbA0TacK\n",
      "  Args:\n",
      "    table_names: products\n",
      "  sql_db_schema (call_H47u09VVeKoCnceUU7KwOA3P)\n",
      " Call ID: call_H47u09VVeKoCnceUU7KwOA3P\n",
      "  Args:\n",
      "    table_names: orderdetails\n",
      "=================================\u001b[1m Tool Message \u001b[0m=================================\n",
      "Name: sql_db_schema\n",
      "\n",
      "\n",
      "CREATE TABLE orderdetails (\n",
      "\t\"orderNumber\" INTEGER, \n",
      "\t\"productCode\" VARCHAR(15) NOT NULL, \n",
      "\t\"quantityOrdered\" INTEGER NOT NULL, \n",
      "\t\"priceEach\" DECIMAL(10, 2) NOT NULL, \n",
      "\t\"orderLineNumber\" SMALLINT NOT NULL, \n",
      "\tPRIMARY KEY (\"orderNumber\", \"productCode\"), \n",
      "\tFOREIGN KEY(\"orderNumber\") REFERENCES orders (\"orderNumber\"), \n",
      "\tFOREIGN KEY(\"productCode\") REFERENCES products (\"productCode\")\n",
      ")\n",
      "\n",
      "/*\n",
      "3 rows from orderdetails table:\n",
      "orderNumber\tproductCode\tquantityOrdered\tpriceEach\torderLineNumber\n",
      "10100\tS18_1749\t30\t136.00\t3\n",
      "10100\tS18_2248\t50\t55.09\t2\n",
      "10100\tS18_4409\t22\t75.46\t4\n",
      "*/\n",
      "==================================\u001b[1m Ai Message \u001b[0m==================================\n",
      "Tool Calls:\n",
      "  sql_db_query_checker (call_NobhLIAdMyYYDef4b9iEyO0v)\n",
      " Call ID: call_NobhLIAdMyYYDef4b9iEyO0v\n",
      "  Args:\n",
      "    query: SELECT od.productCode, SUM(od.quantityOrdered) AS total_quantity\n",
      "FROM orderdetails od\n",
      "GROUP BY od.productCode\n",
      "ORDER BY total_quantity DESC\n",
      "LIMIT 10;\n",
      "==================================\u001b[1m Ai Message \u001b[0m==================================\n",
      "Tool Calls:\n",
      "  sql_db_query_checker (call_NobhLIAdMyYYDef4b9iEyO0v)\n",
      " Call ID: call_NobhLIAdMyYYDef4b9iEyO0v\n",
      "  Args:\n",
      "    query: SELECT od.productCode, SUM(od.quantityOrdered) AS total_quantity\n",
      "FROM orderdetails od\n",
      "GROUP BY od.productCode\n",
      "ORDER BY total_quantity DESC\n",
      "LIMIT 10;\n",
      "=================================\u001b[1m Tool Message \u001b[0m=================================\n",
      "Name: sql_db_query_checker\n",
      "\n",
      "```sql\n",
      "SELECT od.productCode, SUM(od.quantityOrdered) AS total_quantity\n",
      "FROM orderdetails od\n",
      "GROUP BY od.productCode\n",
      "ORDER BY total_quantity DESC\n",
      "LIMIT 10;\n",
      "```\n",
      "=================================\u001b[1m Tool Message \u001b[0m=================================\n",
      "Name: sql_db_query_checker\n",
      "\n",
      "```sql\n",
      "SELECT od.productCode, SUM(od.quantityOrdered) AS total_quantity\n",
      "FROM orderdetails od\n",
      "GROUP BY od.productCode\n",
      "ORDER BY total_quantity DESC\n",
      "LIMIT 10;\n",
      "```\n",
      "==================================\u001b[1m Ai Message \u001b[0m==================================\n",
      "Tool Calls:\n",
      "  sql_db_query (call_S0OrCDk7cZeCTIvSYF1xphHG)\n",
      " Call ID: call_S0OrCDk7cZeCTIvSYF1xphHG\n",
      "  Args:\n",
      "    query: SELECT od.productCode, SUM(od.quantityOrdered) AS total_quantity\n",
      "FROM orderdetails od\n",
      "GROUP BY od.productCode\n",
      "ORDER BY total_quantity DESC\n",
      "LIMIT 10;\n",
      "=================================\u001b[1m Tool Message \u001b[0m=================================\n",
      "Name: sql_db_query\n",
      "\n",
      "[('S18_3232', 1808), ('S18_1342', 1111), ('S700_4002', 1085), ('S18_3856', 1076), ('S50_1341', 1074), ('S18_4600', 1061), ('S10_1678', 1057), ('S12_4473', 1056), ('S18_2319', 1053), ('S24_3856', 1052)]\n",
      "==================================\u001b[1m Ai Message \u001b[0m==================================\n",
      "Tool Calls:\n",
      "  sql_db_query (call_S0OrCDk7cZeCTIvSYF1xphHG)\n",
      " Call ID: call_S0OrCDk7cZeCTIvSYF1xphHG\n",
      "  Args:\n",
      "    query: SELECT od.productCode, SUM(od.quantityOrdered) AS total_quantity\n",
      "FROM orderdetails od\n",
      "GROUP BY od.productCode\n",
      "ORDER BY total_quantity DESC\n",
      "LIMIT 10;\n",
      "=================================\u001b[1m Tool Message \u001b[0m=================================\n",
      "Name: sql_db_query\n",
      "\n",
      "[('S18_3232', 1808), ('S18_1342', 1111), ('S700_4002', 1085), ('S18_3856', 1076), ('S50_1341', 1074), ('S18_4600', 1061), ('S10_1678', 1057), ('S12_4473', 1056), ('S18_2319', 1053), ('S24_3856', 1052)]\n",
      "==================================\u001b[1m Ai Message \u001b[0m==================================\n",
      "\n",
      "The top 10 selling products by quantity are:\n",
      "\n",
      "1. **Product Code:** S18_3232 - **Total Quantity Sold:** 1808\n",
      "2. **Product Code:** S18_1342 - **Total Quantity Sold:** 1111\n",
      "3. **Product Code:** S700_4002 - **Total Quantity Sold:** 1085\n",
      "4. **Product Code:** S18_3856 - **Total Quantity Sold:** 1076\n",
      "5. **Product Code:** S50_1341 - **Total Quantity Sold:** 1074\n",
      "6. **Product Code:** S18_4600 - **Total Quantity Sold:** 1061\n",
      "7. **Product Code:** S10_1678 - **Total Quantity Sold:** 1057\n",
      "8. **Product Code:** S12_4473 - **Total Quantity Sold:** 1056\n",
      "9. **Product Code:** S18_2319 - **Total Quantity Sold:** 1053\n",
      "10. **Product Code:** S24_3856 - **Total Quantity Sold:** 1052\n",
      "\n",
      "These figures represent the quantities ordered for each product.\n",
      "==================================\u001b[1m Ai Message \u001b[0m==================================\n",
      "\n",
      "The top 10 selling products by quantity are:\n",
      "\n",
      "1. **Product Code:** S18_3232 - **Total Quantity Sold:** 1808\n",
      "2. **Product Code:** S18_1342 - **Total Quantity Sold:** 1111\n",
      "3. **Product Code:** S700_4002 - **Total Quantity Sold:** 1085\n",
      "4. **Product Code:** S18_3856 - **Total Quantity Sold:** 1076\n",
      "5. **Product Code:** S50_1341 - **Total Quantity Sold:** 1074\n",
      "6. **Product Code:** S18_4600 - **Total Quantity Sold:** 1061\n",
      "7. **Product Code:** S10_1678 - **Total Quantity Sold:** 1057\n",
      "8. **Product Code:** S12_4473 - **Total Quantity Sold:** 1056\n",
      "9. **Product Code:** S18_2319 - **Total Quantity Sold:** 1053\n",
      "10. **Product Code:** S24_3856 - **Total Quantity Sold:** 1052\n",
      "\n",
      "These figures represent the quantities ordered for each product.\n"
     ]
    }
   ],
   "source": [
    "query = 'Get the top 10 selling products by quantity'\n",
    "\n",
    "for event in sql_agent.stream(\n",
    "    {\"messages\": ('user', query)},\n",
    "    stream_mode='values'\n",
    "):\n",
    "    event['messages'][-1].pretty_print()"
   ]
  },
  {
   "cell_type": "code",
   "execution_count": null,
   "id": "83632cb5",
   "metadata": {},
   "outputs": [],
   "source": []
  }
 ],
 "metadata": {
  "kernelspec": {
   "display_name": "venv",
   "language": "python",
   "name": "python3"
  },
  "language_info": {
   "codemirror_mode": {
    "name": "ipython",
    "version": 3
   },
   "file_extension": ".py",
   "mimetype": "text/x-python",
   "name": "python",
   "nbconvert_exporter": "python",
   "pygments_lexer": "ipython3",
   "version": "3.12.2"
  }
 },
 "nbformat": 4,
 "nbformat_minor": 5
}
